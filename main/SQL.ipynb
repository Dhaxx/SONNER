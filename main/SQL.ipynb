{
 "cells": [
  {
   "cell_type": "markdown",
   "id": "6d249b72",
   "metadata": {},
   "source": [
    "# SQL Requisições de Pedidos"
   ]
  },
  {
   "cell_type": "code",
   "execution_count": null,
   "id": "8b11e09b",
   "metadata": {
    "vscode": {
     "languageId": "sql"
    }
   },
   "outputs": [],
   "source": [
    "with itens_processo as (\n",
    "    select \n",
    "        processo,\n",
    "        ano,\n",
    "        tipo,\n",
    "        item,\n",
    "        dense_rank() over (\n",
    "            partition by processo, ano \n",
    "            order by tipo, item\n",
    "        ) as item_seq\n",
    "    from cgc_vw_itensprocesso\n",
    "),\n",
    "itens_pedido as (\n",
    "    select \n",
    "        cvi.pedido,\n",
    "        cvi.ano,\n",
    "        cvi.tipo,\n",
    "        cvi.item,\n",
    "        ip.item_seq\n",
    "    from cgc_vw_itenspedido cvi\n",
    "    join itens_processo ip \n",
    "      on cvi.processo = ip.processo\n",
    "     and cvi.anoprocesso = ip.ano\n",
    "     and cvi.tipo = ip.tipo\n",
    "     and cvi.itemprocesso = ip.item\n",
    "),\n",
    "base as (\n",
    "    select\n",
    "        a.pedido id_requi,\n",
    "        concat(to_char(a.pedido, 'fm000000/'), extract(year from a.ano)::int % 2000) as requi,\n",
    "        b.codlocal codccusto,\n",
    "        1 empresa,\n",
    "        ip.item_seq item,\n",
    "        sum(a.quantidade) as quan,\n",
    "        sum(a.valor) as vaun,\n",
    "        sum(a.total) as vato\n",
    "    from pinhalpm.cgc_vw_itenspedidorecebido a\n",
    "    join cgcpedidos b \n",
    "      on b.pedido = a.pedido and b.ano = a.ano\n",
    "    join cgcrecebpedido c \n",
    "      on c.pedido = a.pedido and c.numero = a.numero\n",
    "    left join itens_pedido ip \n",
    "      on ip.pedido = a.pedido \n",
    "     and ip.ano = a.ano \n",
    "     and ip.tipo = a.tipo \n",
    "     and ip.item = a.item\n",
    "    where extract(year from a.ano) = 2025\n",
    "    group by \n",
    "        a.pedido, a.ano, b.codlocal, ip.item_seq\n",
    ")\n",
    "select concat(\n",
    "'insert into icadreq (id_requi, requi, codccusto, empresa, item, quan1, quan2, vaun1, vaun2, vato1, vato2, cadpro, destino) values (',\n",
    "id_requi,',''',\n",
    "requi,''',',\n",
    "codccusto,',',\n",
    "empresa,',',\n",
    "item,',',\n",
    "quan,',',\n",
    "quan,',',\n",
    "vaun,',',\n",
    "vaun,',',\n",
    "vato,',',\n",
    "vato,',',\n",
    "'(select cadpro from icadped where id_cadped = ', id_requi,'25 and item = ', item, '),',\n",
    "'000000000'');'\n",
    ")\n",
    "from base b;"
   ]
  }
 ],
 "metadata": {
  "language_info": {
   "name": "python"
  }
 },
 "nbformat": 4,
 "nbformat_minor": 5
}

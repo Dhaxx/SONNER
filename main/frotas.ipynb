{
 "cells": [
  {
   "cell_type": "markdown",
   "id": "4854b983",
   "metadata": {},
   "source": [
    "# 🔌CONEXÃO\n",
    "Estabelecer conexão com os bancos"
   ]
  },
  {
   "cell_type": "code",
   "execution_count": 4,
   "id": "84e9fa09",
   "metadata": {},
   "outputs": [],
   "source": [
    "import psycopg2\n",
    "from psycopg2.extras import DictCursor\n",
    "import fdb\n",
    "from dotenv import load_dotenv\n",
    "import os\n",
    "\n",
    "load_dotenv()\n",
    "\n",
    "# Conexões\n",
    "cnx_dest = fdb.connect(\n",
    "    user=os.getenv(\"FDB_USER\"),\n",
    "    password=os.getenv(\"FDB_PASS\"),\n",
    "    host=os.getenv(\"FDB_HOST\"),\n",
    "    port=int(os.getenv(\"FDB_PORT\")),\n",
    "    database=os.getenv(\"FDB_PATH\"),\n",
    "    charset=\"WIN1252\"\n",
    ")\n",
    "cur_dest = cnx_dest.cursor()\n",
    "\n",
    "\n",
    "cnx_orig = psycopg2.connect(\n",
    "    user=os.getenv(\"PG_USER\"),\n",
    "    password=os.getenv(\"PG_PASS\"),\n",
    "    host=os.getenv(\"PG_HOST\"),\n",
    "    database=os.getenv(\"PG_DB\"),\n",
    "    options=\"-c search_path={}\".format(os.getenv(\"PG_SCHEMA\"))\n",
    ")\n",
    "cnx_orig.autocommit = True\n",
    "cur_orig = cnx_orig.cursor(cursor_factory=DictCursor)\n",
    "\n",
    "def commit():\n",
    "    cnx_dest.commit()"
   ]
  },
  {
   "cell_type": "markdown",
   "id": "d0fdc941",
   "metadata": {},
   "source": [
    "# 🛠️ FERRAMENTAS\n",
    "Funções, variáveis cache, hashmaps"
   ]
  },
  {
   "cell_type": "code",
   "execution_count": 5,
   "id": "630f87d1",
   "metadata": {},
   "outputs": [],
   "source": [
    "global cadest, empresa, exercicio\n",
    "cadest = {}\n",
    "empresa = cur_dest.execute(\"SELECT empresa FROM cadcli\").fetchone()[0]\n",
    "exercicio = '2025' #cur_dest.execute(\"SELECT mexer FROM cadcli\").fetchone()[0]\n",
    "\n",
    "def limpa_tabela(tabelas):\n",
    "    for tabela in tabelas:\n",
    "        cur_dest.execute(f\"DELETE FROM {tabela}\")\n",
    "    commit()\n",
    "\n",
    "def cria_coluna(tabela, coluna):\n",
    "    try:\n",
    "        cur_dest.execute(f\"ALTER TABLE {tabela} ADD {coluna} VARCHAR(255)\")\n",
    "    except fdb.DatabaseError as e:\n",
    "        print(f\"Erro ao criar coluna {coluna} na tabela {tabela}: {e}\")\n",
    "    else:\n",
    "        commit()\n",
    "\n",
    "def cria_coluna(tabela, coluna):\n",
    "    try:\n",
    "        cur_dest.execute(f\"ALTER TABLE {tabela} ADD {coluna} VARCHAR(255)\")\n",
    "    except fdb.DatabaseError as e:\n",
    "        print(f\"Erro ao criar coluna {coluna} na tabela {tabela}: {e}\")\n",
    "    else:\n",
    "        commit()\n",
    "\n",
    "def to_cp1252_safe(value, replace_with=''):\n",
    "    \"\"\"\n",
    "    Converte uma string para cp1252 de forma segura.\n",
    "    Remove ou substitui caracteres inválidos.\n",
    "\n",
    "    :param value: valor a converter\n",
    "    :param replace_with: string usada no lugar de caracteres inválidos (default = '')\n",
    "    :return: valor limpo\n",
    "    \"\"\"\n",
    "    if isinstance(value, str):\n",
    "        try:\n",
    "            # Tenta converter diretamente\n",
    "            value.encode('cp1252')\n",
    "            return value\n",
    "        except UnicodeEncodeError:\n",
    "            # Remove/substitui caracteres inválidos\n",
    "            return value.encode('cp1252', errors='replace').decode('cp1252').replace('?', replace_with)\n",
    "    return value\n",
    "\n",
    "cur_dest.execute(\"SELECT codreduz, max(cadpro) FROM cadest group by 1\")\n",
    "if cur_dest.description is None:\n",
    "    print(\"CADEST VAZIA!\")\n",
    "else:\n",
    "    cadest = {k:v for k,v in cur_dest.execute(\"SELECT codreduz, max(cadpro) FROM cadest group by 1\").fetchall()}\n"
   ]
  },
  {
   "cell_type": "markdown",
   "id": "5a655144",
   "metadata": {},
   "source": [
    "# CADASTROS"
   ]
  },
  {
   "cell_type": "markdown",
   "id": "11d6e2a5",
   "metadata": {},
   "source": [
    "## TIPO VEÍCULO"
   ]
  },
  {
   "cell_type": "code",
   "execution_count": 7,
   "id": "641e1b6d",
   "metadata": {},
   "outputs": [],
   "source": [
    "limpa_tabela((\"veiculo_tipo\",))\n",
    "\n",
    "insert = cur_dest.prep(\"insert into veiculo_tipo(codigo_tip, descricao_tip) values(?, ?)\")\n",
    "\n",
    "cur_orig.execute(\"select row_number() over (order by categoria, codigo) codigo, descricao from cgfcategtipo\")\n",
    "\n",
    "for row in cur_orig:\n",
    "    cur_dest.execute(insert, (row['codigo'], row['descricao']))\n",
    "commit()"
   ]
  },
  {
   "cell_type": "markdown",
   "id": "e33e9ef8",
   "metadata": {},
   "source": [
    "## MARCAS"
   ]
  },
  {
   "cell_type": "code",
   "execution_count": 8,
   "id": "78a5b60e",
   "metadata": {},
   "outputs": [],
   "source": [
    "limpa_tabela(('veiculo_marca',))\n",
    "\n",
    "insert = cur_dest.prep(\"insert into veiculo_marca(codigo_mar, descricao_mar) values(?, ?)\")\n",
    "\n",
    "cur_orig.execute(\"select codigo, nome from cgfmarca c\")\n",
    "\n",
    "for row in cur_orig:\n",
    "    cur_dest.execute(insert, (row['codigo'], row['nome']))\n",
    "commit()"
   ]
  },
  {
   "cell_type": "markdown",
   "id": "3e3732b4",
   "metadata": {},
   "source": [
    "## VEÍCULO"
   ]
  },
  {
   "cell_type": "code",
   "execution_count": null,
   "id": "c163be15",
   "metadata": {},
   "outputs": [],
   "source": [
    "limpa_tabela(('veiculo',))\n",
    "\n",
    "insert = cur_dest.prep(\"insert into veiculo(placa, modelo, combustivel, anomod, renavam, chassi, codigo_marca_vei, codigo_tipo_vei, aquisicao, codigo_bem_par, tanque, inativo, sequencia, cor, prefixo) values(?, ?, ?, ?, ?, ?, ?, ?, ?, ?, ?, ?, ?, ?, ?)\")\n",
    "\n",
    "cur_orig.execute(\"\"\"\n",
    "select\n",
    "\ta.frota,\n",
    "\tmodelo,\n",
    "\tsubstr(c.descricao,1,1) combustivel,\n",
    "\tsubstr(anomodelo,1,4) anomodelo,\n",
    "\tb.renavam,\n",
    "\tchassi,\n",
    "\ta.marca,\n",
    "\td.codigo_categ tipo,\n",
    "\ta.aquisicao::date aquisicao,\n",
    "\ta.codigobem,\n",
    "\ttanque,\n",
    "\ta.ativo,\n",
    "\trow_number() over (order by a.frota) as sequencia,\n",
    "\ta.cor,\n",
    "    a.prefixo\n",
    "from\n",
    "\tcgffrota a\n",
    "join cgfveiculo b on a.frota = b.frota\n",
    "left join cgfcombustivel c on a.combustivel = c.codigo\n",
    "left join (select row_number() over (order by categoria, codigo) codigo_categ, categoria, codigo from cgfcategtipo) d on a.tipofrota = d.categoria and b.tipo = d.codigo\n",
    "\"\"\")\n",
    "\n",
    "for row in cur_orig:\n",
    "    cur_dest.execute(insert, (row['frota'], row['modelo'], row['combustivel'], row['anomodelo'], row['renavam'], row['chassi'], row['marca'], row['tipo'], row['aquisicao'], row['codigobem'], row['tanque'], row['ativo'], row['sequencia'], row['cor'], row['prefixo']))\n",
    "commit()"
   ]
  }
 ],
 "metadata": {
  "kernelspec": {
   "display_name": "venv (3.12.6)",
   "language": "python",
   "name": "python3"
  },
  "language_info": {
   "codemirror_mode": {
    "name": "ipython",
    "version": 3
   },
   "file_extension": ".py",
   "mimetype": "text/x-python",
   "name": "python",
   "nbconvert_exporter": "python",
   "pygments_lexer": "ipython3",
   "version": "3.12.6"
  }
 },
 "nbformat": 4,
 "nbformat_minor": 5
}

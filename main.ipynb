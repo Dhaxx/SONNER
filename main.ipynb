{
 "cells": [
  {
   "cell_type": "markdown",
   "id": "4e1a9ed8",
   "metadata": {},
   "source": [
    "# CONEXÃO"
   ]
  },
  {
   "cell_type": "code",
   "execution_count": null,
   "id": "2c665298",
   "metadata": {},
   "outputs": [],
   "source": [
    "import psycopg2\n",
    "import fdb\n",
    "from dotenv import load_dotenv\n",
    "import os\n",
    "\n",
    "credentials = load_dotenv()\n",
    "\n",
    "# Conexões\n",
    "cur_dest = fdb.connect(\n",
    "    user=os.getenv(\"FDB_USER\"),\n",
    "    password=os.getenv(\"FDB_PASS\"),\n",
    "    host=os.getenv(\"FDB_HOST\"),\n",
    "    port=os.getenv(\"FDB_PORT\"),\n",
    "    database=os.getenv(\"FDB_PATH\"),\n",
    "    charset=\"WIN1252\"\n",
    ").cursor()\n",
    "\n",
    "cur_orig = psycopg2.connect(\n",
    "    user=os.getenv(\"PG_USER\"),\n",
    "    password=os.getenv(\"PG_PASS\"),\n",
    "    host=os.getenv(\"PG_HOST\"),\n",
    "    database=os.getenv(\"PG_DB\"),\n",
    "    schema=os.getenv(\"PG_SCHEMA\")\n",
    ").cursor()\n",
    "\n",
    "def commit():\n",
    "    cur_dest.commit()"
   ]
  },
  {
   "cell_type": "markdown",
   "id": "67400310",
   "metadata": {},
   "source": [
    "# FERRAMENTAS"
   ]
  },
  {
   "cell_type": "code",
   "execution_count": null,
   "id": "8f2d1cc8",
   "metadata": {},
   "outputs": [],
   "source": [
    "global cadest, empresa\n",
    "cadest = {}\n",
    "empresa = cur_dest.execute(\"SELECT empresa FROM cadcli\").fetchone()[0]\n",
    "\n",
    "def limpa_tabela(tabelas):\n",
    "    for tabela in tabelas:\n",
    "        cur_dest.execute(f\"DELETE FROM {tabela}\")\n",
    "    commit()\n",
    "\n",
    "def cria_coluna(tabela, coluna):\n",
    "    try:\n",
    "        cur_dest.execute(f\"ALTER TABLE {tabela} ADD {coluna} VARCHAR(255)\")\n",
    "    except fdb.DatabaseError as e:\n",
    "        print(f\"Erro ao criar coluna {coluna} na tabela {tabela}: {e}\")\n",
    "    else:\n",
    "        commit()"
   ]
  },
  {
   "cell_type": "markdown",
   "id": "3bf546e1",
   "metadata": {},
   "source": [
    "# COMPRAS\n",
    "<p>Extração, tratamento e carregamento dos dados referentes ao módulo compras</p>"
   ]
  },
  {
   "cell_type": "markdown",
   "id": "d9130bcc",
   "metadata": {},
   "source": [
    "## CADASTROS BASE"
   ]
  },
  {
   "cell_type": "markdown",
   "id": "421ba8f4",
   "metadata": {},
   "source": [
    "### CADUNIMEDIDA"
   ]
  },
  {
   "cell_type": "code",
   "execution_count": null,
   "id": "35146881",
   "metadata": {},
   "outputs": [],
   "source": [
    "limpa_tabela((\"cadunimedida\"))\n",
    "\n",
    "insert = cur_dest.prepare(\"insert into cadunimedida(sigla,descricao) values(?,?)\")\n",
    "\n",
    "cur_orig.execute(\"select distinct replace(unidade, ' ', 'NULL'), nome_unidemb from cgamercadorias order by 1\")\n",
    "\n",
    "for row in cur_orig:\n",
    "    cur_dest.execute(insert, (row[0], row[1]))\n",
    "commit()\n"
   ]
  },
  {
   "cell_type": "markdown",
   "id": "eee76cfb",
   "metadata": {},
   "source": [
    "### GRUPO E SUBGRUPO"
   ]
  },
  {
   "cell_type": "code",
   "execution_count": null,
   "id": "ed48b081",
   "metadata": {},
   "outputs": [],
   "source": [
    "limpa_tabela((\"cadgrupo\", \"cadsubgrupo\"))\n",
    "\n",
    "cur_orig.execute(\"\"\"\n",
    "select\n",
    "\tdistinct\n",
    "\tto_char(grupo::integer, '000') grupo,\n",
    "\tsubgrupo,\n",
    "\ta.descricao\n",
    "from\n",
    "\tcgasubgrupos a\n",
    "union all\n",
    "select distinct\n",
    "\tto_char(grupo::integer, '000') grupo,\n",
    "\tconcat(substring(mercadoria,1,1), substring(subgrupo,2,2)) subgrupo,\n",
    "\tb.descricao\n",
    "\t--, a.mercadoria\n",
    "from\n",
    "\tcgc_vw_mercadorias a\n",
    "left join cgasubgrupos b using (grupo, subgrupo)\n",
    "where a.mercadoria not like '0%'                  \n",
    "union all\n",
    "\tselect\n",
    "\tdistinct\n",
    "\tto_char(grupo::integer, '000') grupo,\n",
    "\t'000',\n",
    "\ta.descricao\n",
    "from\n",
    "\tcgagrupos a\n",
    "order by\n",
    "\t2,\n",
    "\t1\n",
    "\"\"\")\n",
    "\n",
    "for row in cur_orig:\n",
    "    if row.subgrupo == '000':\n",
    "        cur_dest.execute(\"insert into cadgrupo(grupo, nome) values(?, ?)\", (row.grupo, row.descricao))\n",
    "        commit()\n",
    "    else:\n",
    "        cur_dest.execute(\"insert into cadsubgrupo(grupo, subgrupo, nome) values(?, ?, ?)\", (row.grupo, row.subgrupo, row.descricao))\n",
    "commit()"
   ]
  },
  {
   "cell_type": "markdown",
   "id": "252c44a0",
   "metadata": {},
   "source": [
    "### CADEST"
   ]
  },
  {
   "cell_type": "code",
   "execution_count": null,
   "id": "2010e4c1",
   "metadata": {},
   "outputs": [],
   "source": [
    "limpa_tabela((\"cadest\"))\n",
    "\n",
    "insert = cur_dest.prepare(\"insert into cadest(grupo, subgrupo, codigo, cadpro, codreduz, disc1, ocultar, unid1, tipopro, usopro) values (?, ?, ?, ?, ?, ?, ?, ?, ?, ?)\")\n",
    "\n",
    "cur_orig.execute(\"\"\"\n",
    "select\n",
    "\tto_char(grupo::integer, '000') grupo,\n",
    "\tconcat(substring(mercadoria,1,1), substring(subgrupo,2,2)) subgrupo,\n",
    "\tsubstring(mercadoria, 2, 3) codigo,\n",
    "\tconcat(\n",
    "\t\tto_char(grupo::integer, '000'),'.',concat(substring(mercadoria,1,1), substring(subgrupo,2,2)),'.',substring(mercadoria, 2, 3)\n",
    "\t) cadpro,\n",
    "\tidespecificacao codreduz,\n",
    "\tdescricao disc1,\n",
    "\tcase when inativo = 0 then 'N' else 'S' end ocultar,\n",
    "\tunidade unid1\n",
    "from\n",
    "\tcgc_vw_mercadorias\n",
    "order by 1, 2, 3\n",
    "\"\"\")\n",
    "\n",
    "for row in cur_orig:\n",
    "    cur_dest.execute(insert, (row.grupo, row.subgrupo, row.codigo, row.cadpro, row.codreduz, row.disc1, row.ocultar, row.unid1, 'P', 'C'))\n",
    "    cadest[row.codreduz] = row.cadpro\n",
    "commit()"
   ]
  },
  {
   "cell_type": "markdown",
   "id": "690ff94e",
   "metadata": {},
   "source": [
    "### CENTRO DE CUSTO"
   ]
  },
  {
   "cell_type": "code",
   "execution_count": null,
   "id": "0086263a",
   "metadata": {},
   "outputs": [],
   "source": [
    "limpa_tabela((\"centrocusto\"))\n",
    "\n",
    "try:\n",
    "    cur_dest.execute(f\"insert into destino(cod,desti,empresa) values('000000000','CONVERSAO',{empresa})\")\n",
    "except fdb.DatabaseError as e:\n",
    "    print(f\"Erro ao inserir destino: {e}\")\n",
    "else:\n",
    "    commit()\n",
    "\n",
    "insert = cur_dest.prepare(\"\"\"\n",
    "    insert into centrocusto (codccusto, descr, ccusto, ocultar, empresa, poder, orgao, destino, pai) values (?, ?, ?, ?, ?, ?, ?, ?, ?)\n",
    "\"\"\")\n",
    "\n",
    "cur_orig.execute(\"\"\"\n",
    "with CTE as (\n",
    "    select\n",
    "        id as codccusto,\n",
    "        nome as descr,\n",
    "        pai,\n",
    "        versao,\n",
    "        row_number() over (partition by id order by versao desc) as rn\n",
    "    from\n",
    "        pinhalpm.cadlocalfisico\n",
    ")\n",
    "select\n",
    "    codccusto,\n",
    "    descr,\n",
    "    pai\n",
    "from\n",
    "    CTE a\n",
    "where\n",
    "    rn = 1;\n",
    "\"\"\")\n",
    "\n",
    "for row in cur_orig:\n",
    "    cur_dest.execute(insert, (row.codccusto, row.descr, '001', 'N', empresa, '02', '01', '000000000', row.pai))\n",
    "commit()"
   ]
  },
  {
   "cell_type": "markdown",
   "id": "48055efb",
   "metadata": {},
   "source": [
    "### ALMOXARIFADOS"
   ]
  },
  {
   "cell_type": "code",
   "execution_count": null,
   "id": "abb486b5",
   "metadata": {},
   "outputs": [],
   "source": [
    "limpa_tabela((\"destino\"))\n",
    "cria_coluna(\"destino\", \"almox_pai\")\n",
    "\n",
    "insert = cur_dest.prepare(\"\"\"insert into destino(cod,desti,empresa,almox_pai) values(?,?,?,?)\"\"\")\n",
    "\n",
    "cur_orig.execute(\"\"\"\n",
    "select\n",
    "\tto_char(id, 'fm000000000') cod,\n",
    "\tnome desti,\n",
    "\tg.unidadeprincipal pai,\n",
    "    localfisico codccusto\n",
    "from\n",
    "\tgapunidadealmox g  \n",
    "\"\"\")\n",
    "\n",
    "for row in cur_orig:\n",
    "    cur_dest.execute(insert, (row.cod, row.desti, empresa, row.pai))\n",
    "    cur_dest.execute(\"insert into centrocusto_destino (codccusto, destino) values (?, ?)\", (row.codccusto, row.cod))\n",
    "commit()"
   ]
  },
  {
   "cell_type": "markdown",
   "id": "fecc78c2",
   "metadata": {},
   "source": [
    "## COTAÇÃO"
   ]
  }
 ],
 "metadata": {
  "kernelspec": {
   "display_name": "venv (3.12.6)",
   "language": "python",
   "name": "python3"
  },
  "language_info": {
   "codemirror_mode": {
    "name": "ipython",
    "version": 3
   },
   "file_extension": ".py",
   "mimetype": "text/x-python",
   "name": "python",
   "nbconvert_exporter": "python",
   "pygments_lexer": "ipython3",
   "version": "3.12.6"
  }
 },
 "nbformat": 4,
 "nbformat_minor": 5
}
